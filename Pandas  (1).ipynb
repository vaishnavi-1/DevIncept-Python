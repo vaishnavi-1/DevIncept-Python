{
 "cells": [
  {
   "cell_type": "markdown",
   "metadata": {},
   "source": [
    "# Pandas Series"
   ]
  },
  {
   "cell_type": "markdown",
   "metadata": {},
   "source": [
    "## Creating a Pandas Series"
   ]
  },
  {
   "cell_type": "code",
   "execution_count": 2,
   "metadata": {},
   "outputs": [
    {
     "name": "stdout",
     "output_type": "stream",
     "text": [
      "0    a\n",
      "1    e\n",
      "2    i\n",
      "3    o\n",
      "4    u\n",
      "dtype: object\n",
      "0    a\n",
      "1    e\n",
      "2    i\n",
      "3    o\n",
      "4    u\n",
      "dtype: object\n"
     ]
    }
   ],
   "source": [
    "#import pandas as pd\n",
    "import pandas as pd\n",
    " \n",
    "# import numpy as np\n",
    "import numpy as np\n",
    " \n",
    "# simple array\n",
    "data = np.array(['a','e','i','o','u'])\n",
    " \n",
    "ser = pd.Series(data)\n",
    "print(ser)\n",
    "\n",
    "\n",
    "#Creating a series from Lists\n",
    "\n",
    "import pandas as pd\n",
    " \n",
    "# a simple list\n",
    "list = ['a', 'e', 'i', 'o', 'u']\n",
    "  \n",
    "# create series form a list\n",
    "ser = pd.Series(list)\n",
    "print(ser)"
   ]
  },
  {
   "cell_type": "markdown",
   "metadata": {},
   "source": [
    "## Accessing elements of series"
   ]
  },
  {
   "cell_type": "code",
   "execution_count": null,
   "metadata": {},
   "outputs": [],
   "source": [
    "import pandas as pd\n",
    "import numpy as np\n",
    " \n",
    "# creating simple array\n",
    "data = np.array(['v', 'i', 's', 'm', 'i', 't', 'a', 's', 'a', 'x', 'e', 'n', 'a'])\n",
    "ser = pd.Series(data)\n",
    "  \n",
    "#retrieve the first element\n",
    "print(ser[:8])\n",
    "\n",
    "\n",
    "#Accessing Element Using Label (index)\n",
    "\n",
    "# import pandas and numpy \n",
    "import pandas as pd\n",
    "import numpy as np\n",
    " \n",
    "# creating simple array\n",
    "data = np.array(['v', 'i', 's', 'm', 'i', 't', 'a', 's', 'a', 'x', 'e', 'n', 'a'])\n",
    "ser = pd.Series(data,index=[10, 11, 12, 13, 14, 15, 16, 17, 18, 19, 20, 21, 22])\n",
    "  \n",
    "# accessing a element using index element\n",
    "print(ser[15])"
   ]
  },
  {
   "cell_type": "markdown",
   "metadata": {},
   "source": [
    "## Indexing and Selecting Data in series"
   ]
  },
  {
   "cell_type": "markdown",
   "metadata": {},
   "source": [
    "### Indexing a Series using indexing operator "
   ]
  },
  {
   "cell_type": "code",
   "execution_count": 22,
   "metadata": {
    "scrolled": true
   },
   "outputs": [
    {
     "data": {
      "text/plain": [
       "10    v\n",
       "11    i\n",
       "12    s\n",
       "13    m\n",
       "14    i\n",
       "15    t\n",
       "16    a\n",
       "17    s\n",
       "18    a\n",
       "19    x\n",
       "dtype: object"
      ]
     },
     "execution_count": 22,
     "metadata": {},
     "output_type": "execute_result"
    }
   ],
   "source": [
    "import pandas as pd  \n",
    "     \n",
    "# making data frame  \n",
    "df = pd.read_csv(\"https://s3-ap-southeast-1.amazonaws.com/av-datahack-datacamp/train.csv\")  \n",
    "   \n",
    "\n",
    "data = ser.head(10)\n",
    "data"
   ]
  },
  {
   "cell_type": "markdown",
   "metadata": {},
   "source": [
    "## Binary operation on series"
   ]
  },
  {
   "cell_type": "markdown",
   "metadata": {},
   "source": [
    "#### Example 1"
   ]
  },
  {
   "cell_type": "code",
   "execution_count": 24,
   "metadata": {},
   "outputs": [
    {
     "name": "stdout",
     "output_type": "stream",
     "text": [
      "d    34\n",
      "v    55\n",
      "i    90\n",
      "o    11\n",
      "l     8\n",
      "dtype: int64 \n",
      "\n",
      " b    56\n",
      "j    99\n",
      "h    77\n",
      "s    12\n",
      "m     5\n",
      "dtype: int64\n"
     ]
    }
   ],
   "source": [
    "import pandas as pd\n",
    "data = pd.Series([34,55,90,11,8], index =['d','v','i','o','l'])\n",
    "data1 = pd.Series([56,99,77,12,5], index =['b','j','h','s','m'])\n",
    "\n",
    "print(data, \"\\n\\n\" ,data1)"
   ]
  },
  {
   "cell_type": "markdown",
   "metadata": {},
   "source": [
    "## Conversion operation on Series"
   ]
  },
  {
   "cell_type": "code",
   "execution_count": 27,
   "metadata": {},
   "outputs": [
    {
     "name": "stdout",
     "output_type": "stream",
     "text": [
      "BEFORE CONVERSION\n",
      " id                         int64\n",
      "case_in_country          float64\n",
      "reporting date            object\n",
      "Unnamed: 3               float64\n",
      "summary                   object\n",
      "location                  object\n",
      "country                   object\n",
      "gender                    object\n",
      "age                      float64\n",
      "symptom_onset             object\n",
      "If_onset_approximated    float64\n",
      "hosp_visit_date           object\n",
      "exposure_start            object\n",
      "exposure_end              object\n",
      "visiting Wuhan             int64\n",
      "from Wuhan               float64\n",
      "death                     object\n",
      "recovered                 object\n",
      "symptom                   object\n",
      "source                    object\n",
      "link                      object\n",
      "Unnamed: 21              float64\n",
      "Unnamed: 22              float64\n",
      "Unnamed: 23              float64\n",
      "Unnamed: 24              float64\n",
      "Unnamed: 25              float64\n",
      "Unnamed: 26              float64\n",
      "dtype: object \n",
      "\n",
      "AFTER CONVERSION\n",
      " id                         int64\n",
      "case_in_country            int32\n",
      "reporting date            object\n",
      "Unnamed: 3               float64\n",
      "summary                   object\n",
      "location                  object\n",
      "country                   object\n",
      "gender                    object\n",
      "age                      float64\n",
      "symptom_onset             object\n",
      "If_onset_approximated    float64\n",
      "hosp_visit_date           object\n",
      "exposure_start            object\n",
      "exposure_end              object\n",
      "visiting Wuhan             int64\n",
      "from Wuhan               float64\n",
      "death                     object\n",
      "recovered                 object\n",
      "symptom                   object\n",
      "source                    object\n",
      "link                      object\n",
      "Unnamed: 21               object\n",
      "Unnamed: 22              float64\n",
      "Unnamed: 23              float64\n",
      "Unnamed: 24              float64\n",
      "Unnamed: 25              float64\n",
      "Unnamed: 26              float64\n",
      "dtype: object \n",
      "\n"
     ]
    }
   ],
   "source": [
    "import pandas as pd\n",
    "data = pd.read_csv(\"COVID19_line_list_data.csv\")\n",
    "\n",
    "\n",
    "# dropping null value columns to avoid errors \n",
    "data.dropna(inplace = True) \n",
    "   \n",
    "# storing dtype before converting \n",
    "before = data.dtypes \n",
    "   \n",
    "# converting dtypes using astype \n",
    "data[\"case_in_country\"]= data[\"case_in_country\"].astype(int) \n",
    "data[\"Unnamed: 21\"]= data[\"Unnamed: 21\"].astype(str) \n",
    "   \n",
    "# storing dtype after converting \n",
    "after = data.dtypes \n",
    "   \n",
    "# printing to compare \n",
    "print(\"BEFORE CONVERSION\\n\", before, \"\\n\") \n",
    "print(\"AFTER CONVERSION\\n\", after, \"\\n\")\n"
   ]
  },
  {
   "cell_type": "markdown",
   "metadata": {},
   "source": [
    "# Pandas Dataframe"
   ]
  },
  {
   "cell_type": "markdown",
   "metadata": {},
   "source": [
    "### Creating a Pandas dataframe"
   ]
  },
  {
   "cell_type": "code",
   "execution_count": 29,
   "metadata": {},
   "outputs": [
    {
     "name": "stdout",
     "output_type": "stream",
     "text": [
      "               0\n",
      "0              I\n",
      "1           like\n",
      "2        reading\n",
      "3  inspirational\n",
      "4          books\n",
      "    Name  Age\n",
      "0  Manvi   26\n",
      "1  Neeta   34\n",
      "2  Shyam   16\n",
      "3    Ram   19\n"
     ]
    }
   ],
   "source": [
    "#Creating a dataframe using List\n",
    "\n",
    "# import pandas as pd\n",
    "import pandas as pd\n",
    " \n",
    "# list of strings\n",
    "lst = ['I', 'like','reading','inspirational','books']\n",
    " \n",
    "# Calling DataFrame constructor on list\n",
    "df = pd.DataFrame(lst)\n",
    "print(df)\n",
    "\n",
    "\n",
    "#Creating DataFrame from dict of narray/lists\n",
    "\n",
    "import pandas as pd\n",
    " \n",
    "# intialise data of lists.\n",
    "data = {'Name':['Manvi', 'Neeta', 'Shyam', 'Ram'], 'Age':[26,34,16,19]}\n",
    " \n",
    "# Create DataFrame\n",
    "df = pd.DataFrame(data)\n",
    " \n",
    "# Print the output.\n",
    "print(df)"
   ]
  },
  {
   "cell_type": "markdown",
   "metadata": {},
   "source": [
    "## Dealing with Rows and Columns"
   ]
  },
  {
   "cell_type": "code",
   "execution_count": 32,
   "metadata": {},
   "outputs": [
    {
     "name": "stdout",
     "output_type": "stream",
     "text": [
      "    Name    Company\n",
      "0    Ram        TCS\n",
      "1  Shyam     Zomato\n",
      "2   Mark     Google\n",
      "3  Harry  Microsoft\n"
     ]
    }
   ],
   "source": [
    "#Column Selection\n",
    "\n",
    "import pandas as pd\n",
    "\n",
    "data = {'Name': ['Ram','Shyam','Mark','Harry'], 'Company':['TCS','Zomato','Google','Microsoft'],'Age': ['23','33','26','40']}\n",
    "\n",
    "df = pd.DataFrame(data)\n",
    "\n",
    "print(df[['Name','Company']])"
   ]
  },
  {
   "cell_type": "code",
   "execution_count": 33,
   "metadata": {},
   "outputs": [
    {
     "name": "stdout",
     "output_type": "stream",
     "text": [
      "           id  case_in_country reporting date  Unnamed: 3  \\\n",
      "location                                                    \n",
      "Beijing     8              NaN      1/21/2020         NaN   \n",
      "Beijing     9              NaN      1/21/2020         NaN   \n",
      "Beijing    10              NaN      1/21/2020         NaN   \n",
      "Beijing    11              NaN      1/21/2020         NaN   \n",
      "Beijing    12              NaN      1/21/2020         NaN   \n",
      "Beijing    36              NaN      1/22/2020         NaN   \n",
      "Beijing    37              NaN      1/22/2020         NaN   \n",
      "Beijing    38              NaN      1/22/2020         NaN   \n",
      "Beijing    39              NaN      1/22/2020         NaN   \n",
      "Beijing    92              NaN      1/24/2020         NaN   \n",
      "Beijing   117              NaN      1/25/2020         NaN   \n",
      "Beijing   146              NaN      1/21/2020         NaN   \n",
      "Beijing   147              NaN      1/21/2020         NaN   \n",
      "Beijing   148              NaN      1/25/2020         NaN   \n",
      "Beijing   170              NaN      1/27/2020         NaN   \n",
      "Beijing   171              NaN      1/27/2020         NaN   \n",
      "Beijing   172              NaN      1/27/2020         NaN   \n",
      "Beijing   173              NaN      1/27/2020         NaN   \n",
      "\n",
      "                                                    summary country  gender  \\\n",
      "location                                                                      \n",
      "Beijing   new confirmed imported COVID-19 pneumonia pati...   China    male   \n",
      "Beijing   new confirmed imported COVID-19 pneumonia pati...   China    male   \n",
      "Beijing   new confirmed imported COVID-19 pneumonia pati...   China    male   \n",
      "Beijing   new confirmed imported COVID-19 pneumonia pati...   China  female   \n",
      "Beijing   new confirmed imported COVID-19 pneumonia pati...   China  female   \n",
      "Beijing   new confirmed imported COVID-19 pneumonia pati...   China    male   \n",
      "Beijing   new confirmed imported COVID-19 pneumonia pati...   China    male   \n",
      "Beijing   new confirmed imported COVID-19 pneumonia pati...   China  female   \n",
      "Beijing   new confirmed imported COVID-19 pneumonia pati...   China  female   \n",
      "Beijing   new recovered imported COVID-19 pneumonia pati...   China  female   \n",
      "Beijing   new recovered imported COVID-19 pneumonia pati...   China    male   \n",
      "Beijing   new confirmed imported COVID-19 pneumonia pati...   China    male   \n",
      "Beijing   new confirmed imported COVID-19 pneumonia pati...   China    male   \n",
      "Beijing   new confirmed imported COVID-19 pneumonia pati...   China    male   \n",
      "Beijing                                                 NaN   China    male   \n",
      "Beijing                                                 NaN   China  female   \n",
      "Beijing                                                 NaN   China    male   \n",
      "Beijing                                                 NaN   China  female   \n",
      "\n",
      "           age symptom_onset  If_onset_approximated  ... recovered symptom  \\\n",
      "location                                             ...                     \n",
      "Beijing   37.0     1/14/2020                    0.0  ...         0     NaN   \n",
      "Beijing   39.0      01/09/20                    0.0  ...         0     NaN   \n",
      "Beijing   56.0     1/16/2020                    0.0  ...         0     NaN   \n",
      "Beijing   18.0     1/19/2020                    0.0  ...         0     NaN   \n",
      "Beijing   32.0    01/15/2020                    0.0  ...         0     NaN   \n",
      "Beijing   45.0     1/19/2020                    0.0  ...         0     NaN   \n",
      "Beijing   42.0     1/20/2020                    0.0  ...         0     NaN   \n",
      "Beijing   33.0           NaN                    NaN  ...         0     NaN   \n",
      "Beijing   33.0           NaN                    NaN  ...         0     NaN   \n",
      "Beijing    NaN           NaN                    NaN  ...         0     NaN   \n",
      "Beijing    NaN           NaN                    NaN  ...         0     NaN   \n",
      "Beijing    NaN     1/16/2020                    0.0  ...         0     NaN   \n",
      "Beijing    NaN     1/14/2020                    0.0  ...         0     NaN   \n",
      "Beijing    NaN     1/18/2020                    0.0  ...         0     NaN   \n",
      "Beijing   35.0     1/18/2020                    0.0  ...         0     NaN   \n",
      "Beijing    4.0     1/18/2020                    0.0  ...         0     NaN   \n",
      "Beijing   38.0     1/22/2020                    0.0  ...         0     NaN   \n",
      "Beijing   69.0      01/10/20                    0.0  ...         0     NaN   \n",
      "\n",
      "                                       source  \\\n",
      "location                                        \n",
      "Beijing   Beijing Municipal Health Commission   \n",
      "Beijing   Beijing Municipal Health Commission   \n",
      "Beijing   Beijing Municipal Health Commission   \n",
      "Beijing   Beijing Municipal Health Commission   \n",
      "Beijing   Beijing Municipal Health Commission   \n",
      "Beijing                                  央视新闻   \n",
      "Beijing                                  央视新闻   \n",
      "Beijing                                  央视新闻   \n",
      "Beijing                                  央视新闻   \n",
      "Beijing                                  人民日报   \n",
      "Beijing                                  央视新闻   \n",
      "Beijing                                  央视新闻   \n",
      "Beijing                                  央视新闻   \n",
      "Beijing                                  央视新闻   \n",
      "Beijing                                  央视新闻   \n",
      "Beijing                                  央视新闻   \n",
      "Beijing                                  央视新闻   \n",
      "Beijing                                  央视新闻   \n",
      "\n",
      "                                                       link  Unnamed: 21  \\\n",
      "location                                                                   \n",
      "Beijing   http://wjw.beijing.gov.cn/xwzx_20031/wnxw/2020...          NaN   \n",
      "Beijing   http://wjw.beijing.gov.cn/xwzx_20031/wnxw/2020...          NaN   \n",
      "Beijing   http://wjw.beijing.gov.cn/xwzx_20031/wnxw/2020...          NaN   \n",
      "Beijing   http://wjw.beijing.gov.cn/xwzx_20031/wnxw/2020...          NaN   \n",
      "Beijing   http://wjw.beijing.gov.cn/xwzx_20031/wnxw/2020...          NaN   \n",
      "Beijing         https://m.weibo.cn/status/4463681624289721?          NaN   \n",
      "Beijing         https://m.weibo.cn/status/4463681624289721?          NaN   \n",
      "Beijing         https://m.weibo.cn/status/4463681624289721?          NaN   \n",
      "Beijing         https://m.weibo.cn/status/4463681624289721?          NaN   \n",
      "Beijing         https://m.weibo.cn/status/4464259805726673?          NaN   \n",
      "Beijing         https://m.weibo.cn/status/4464576223073059?          NaN   \n",
      "Beijing         https://m.weibo.cn/status/4464865911441959?          NaN   \n",
      "Beijing         https://m.weibo.cn/status/4464865911441959?          NaN   \n",
      "Beijing         https://m.weibo.cn/status/4464865911441959?          NaN   \n",
      "Beijing         https://m.weibo.cn/status/4465361728673224?          NaN   \n",
      "Beijing         https://m.weibo.cn/status/4465361728673224?          NaN   \n",
      "Beijing         https://m.weibo.cn/status/4465361728673224?          NaN   \n",
      "Beijing         https://m.weibo.cn/status/4465361728673224?          NaN   \n",
      "\n",
      "         Unnamed: 22 Unnamed: 23 Unnamed: 24 Unnamed: 25 Unnamed: 26  \n",
      "location                                                              \n",
      "Beijing          NaN         NaN         NaN         NaN         NaN  \n",
      "Beijing          NaN         NaN         NaN         NaN         NaN  \n",
      "Beijing          NaN         NaN         NaN         NaN         NaN  \n",
      "Beijing          NaN         NaN         NaN         NaN         NaN  \n",
      "Beijing          NaN         NaN         NaN         NaN         NaN  \n",
      "Beijing          NaN         NaN         NaN         NaN         NaN  \n",
      "Beijing          NaN         NaN         NaN         NaN         NaN  \n",
      "Beijing          NaN         NaN         NaN         NaN         NaN  \n",
      "Beijing          NaN         NaN         NaN         NaN         NaN  \n",
      "Beijing          NaN         NaN         NaN         NaN         NaN  \n",
      "Beijing          NaN         NaN         NaN         NaN         NaN  \n",
      "Beijing          NaN         NaN         NaN         NaN         NaN  \n",
      "Beijing          NaN         NaN         NaN         NaN         NaN  \n",
      "Beijing          NaN         NaN         NaN         NaN         NaN  \n",
      "Beijing          NaN         NaN         NaN         NaN         NaN  \n",
      "Beijing          NaN         NaN         NaN         NaN         NaN  \n",
      "Beijing          NaN         NaN         NaN         NaN         NaN  \n",
      "Beijing          NaN         NaN         NaN         NaN         NaN  \n",
      "\n",
      "[18 rows x 26 columns] \n",
      "\n",
      "\n",
      "           id  case_in_country reporting date  Unnamed: 3  \\\n",
      "location                                                   \n",
      "Sichuan    7              NaN      1/21/2020         NaN   \n",
      "Sichuan   15              NaN      1/22/2020         NaN   \n",
      "Sichuan   24              NaN      1/22/2020         NaN   \n",
      "Sichuan   25              NaN      1/22/2020         NaN   \n",
      "Sichuan   26              NaN      1/22/2020         NaN   \n",
      "Sichuan   45              NaN      1/22/2020         NaN   \n",
      "Sichuan   46              NaN      1/22/2020         NaN   \n",
      "Sichuan   47              NaN      1/22/2020         NaN   \n",
      "\n",
      "                                                    summary country  gender  \\\n",
      "location                                                                      \n",
      "Sichuan   First confirmed imported COVID-19 pneumonia pa...   China    male   \n",
      "Sichuan   Second confirmed imported COVID-19 pneumonia p...   China    male   \n",
      "Sichuan   new confirmed imported COVID-19 pneumonia pati...   China  female   \n",
      "Sichuan   new confirmed imported COVID-19 pneumonia pati...   China    male   \n",
      "Sichuan   new confirmed imported COVID-19 pneumonia pati...   China    male   \n",
      "Sichuan   new confirmed imported COVID-19 pneumonia pati...   China    male   \n",
      "Sichuan   new confirmed imported COVID-19 pneumonia pati...   China    male   \n",
      "Sichuan   new confirmed imported COVID-19 pneumonia pati...   China    male   \n",
      "\n",
      "           age symptom_onset  If_onset_approximated  ... recovered symptom  \\\n",
      "location                                             ...                     \n",
      "Sichuan   34.0      01/11/20                    0.0  ...         0     NaN   \n",
      "Sichuan   57.0     1/16/2020                    0.0  ...         0     NaN   \n",
      "Sichuan   28.0     1/19/2020                    0.0  ...         0     NaN   \n",
      "Sichuan   37.0     1/20/2020                    0.0  ...         0     NaN   \n",
      "Sichuan   19.0     1/20/2020                    0.0  ...         0     NaN   \n",
      "Sichuan   50.0     1/18/2020                    0.0  ...         0     NaN   \n",
      "Sichuan   48.0     1/18/2020                    0.0  ...         0     NaN   \n",
      "Sichuan   36.0     1/18/2020                    0.0  ...         0     NaN   \n",
      "\n",
      "         source                                               link  \\\n",
      "location                                                             \n",
      "Sichuan    央视新闻        https://m.weibo.cn/status/4463300522087848?   \n",
      "Sichuan    央视新闻  https://www.weibo.com/2656274875/IqzRU3150?fro...   \n",
      "Sichuan    央视新闻  https://www.weibo.com/2656274875/IqGDxbyp4?fro...   \n",
      "Sichuan    央视新闻  https://www.weibo.com/2656274875/IqGDxbyp4?fro...   \n",
      "Sichuan    央视新闻  https://www.weibo.com/2656274875/IqGDxbyp4?fro...   \n",
      "Sichuan    央视新闻        https://m.weibo.cn/status/4463841306422942?   \n",
      "Sichuan    央视新闻        https://m.weibo.cn/status/4463841306422942?   \n",
      "Sichuan    央视新闻        https://m.weibo.cn/status/4463841306422942?   \n",
      "\n",
      "          Unnamed: 21 Unnamed: 22 Unnamed: 23 Unnamed: 24 Unnamed: 25  \\\n",
      "location                                                                \n",
      "Sichuan           NaN         NaN         NaN         NaN         NaN   \n",
      "Sichuan           NaN         NaN         NaN         NaN         NaN   \n",
      "Sichuan           NaN         NaN         NaN         NaN         NaN   \n",
      "Sichuan           NaN         NaN         NaN         NaN         NaN   \n",
      "Sichuan           NaN         NaN         NaN         NaN         NaN   \n",
      "Sichuan           NaN         NaN         NaN         NaN         NaN   \n",
      "Sichuan           NaN         NaN         NaN         NaN         NaN   \n",
      "Sichuan           NaN         NaN         NaN         NaN         NaN   \n",
      "\n",
      "         Unnamed: 26  \n",
      "location              \n",
      "Sichuan          NaN  \n",
      "Sichuan          NaN  \n",
      "Sichuan          NaN  \n",
      "Sichuan          NaN  \n",
      "Sichuan          NaN  \n",
      "Sichuan          NaN  \n",
      "Sichuan          NaN  \n",
      "Sichuan          NaN  \n",
      "\n",
      "[8 rows x 26 columns]\n"
     ]
    }
   ],
   "source": [
    "#Row selection\n",
    "import pandas as pd\n",
    " \n",
    "# making data frame from csv file\n",
    "data = pd.read_csv(\"COVID19_line_list_data.csv\", index_col =\"location\")\n",
    " \n",
    "# retrieving row by loc method\n",
    "first = data.loc[\"Beijing\"]\n",
    "second = data.loc[\"Sichuan\"]\n",
    " \n",
    "print(first, \"\\n\\n\\n\", second)"
   ]
  },
  {
   "cell_type": "markdown",
   "metadata": {},
   "source": [
    "## Indexing and selecting data"
   ]
  },
  {
   "cell_type": "code",
   "execution_count": 34,
   "metadata": {},
   "outputs": [
    {
     "name": "stdout",
     "output_type": "stream",
     "text": [
      "age\n",
      "66.0      male\n",
      "56.0    female\n",
      "46.0      male\n",
      "60.0    female\n",
      "58.0      male\n",
      "         ...  \n",
      "24.0       NaN\n",
      "35.0       NaN\n",
      "NaN       male\n",
      "NaN       male\n",
      "70.0      male\n",
      "Name: gender, Length: 1085, dtype: object\n"
     ]
    }
   ],
   "source": [
    "import pandas as pd\n",
    " \n",
    "# making data frame from csv file\n",
    "data = pd.read_csv(\"COVID19_line_list_data.csv\", index_col =\"age\")\n",
    " \n",
    "# retrieving columns by indexing operator\n",
    "first = data[\"gender\"]\n",
    "\n",
    "print(first)"
   ]
  },
  {
   "cell_type": "code",
   "execution_count": 38,
   "metadata": {},
   "outputs": [
    {
     "name": "stdout",
     "output_type": "stream",
     "text": [
      "id                                                                       4\n",
      "case_in_country                                                        NaN\n",
      "reporting date                                                   1/21/2020\n",
      "Unnamed: 3                                                             NaN\n",
      "summary                  new confirmed imported COVID-19 pneumonia in T...\n",
      "country                                                              China\n",
      "gender                                                              female\n",
      "age                                                                     60\n",
      "symptom_onset                                                          NaN\n",
      "If_onset_approximated                                                  NaN\n",
      "hosp_visit_date                                                  1/19/2020\n",
      "exposure_start                                                         NaN\n",
      "exposure_end                                                           NaN\n",
      "visiting Wuhan                                                           1\n",
      "from Wuhan                                                               0\n",
      "death                                                                    0\n",
      "recovered                                                                0\n",
      "symptom                                                                NaN\n",
      "source                                                            人民日报官方微博\n",
      "link                           https://m.weibo.cn/status/4463235401268457?\n",
      "Unnamed: 21                                                            NaN\n",
      "Unnamed: 22                                                            NaN\n",
      "Unnamed: 23                                                            NaN\n",
      "Unnamed: 24                                                            NaN\n",
      "Unnamed: 25                                                            NaN\n",
      "Unnamed: 26                                                            NaN\n",
      "Name: Tianjin, dtype: object\n"
     ]
    }
   ],
   "source": [
    "#Indexing a dataframe using .iloc() parameter\n",
    "import pandas as pd\n",
    " \n",
    "# making data frame from csv file\n",
    "data = pd.read_csv(\"COVID19_line_list_data.csv\", index_col =\"location\")\n",
    " \n",
    "# retrieving rows by iloc method \n",
    "row2 = data.iloc[3] \n",
    " \n",
    "print(row2)"
   ]
  },
  {
   "cell_type": "markdown",
   "metadata": {},
   "source": [
    "## Working with missing data"
   ]
  },
  {
   "cell_type": "code",
   "execution_count": 42,
   "metadata": {},
   "outputs": [
    {
     "data": {
      "text/html": [
       "<div>\n",
       "<style scoped>\n",
       "    .dataframe tbody tr th:only-of-type {\n",
       "        vertical-align: middle;\n",
       "    }\n",
       "\n",
       "    .dataframe tbody tr th {\n",
       "        vertical-align: top;\n",
       "    }\n",
       "\n",
       "    .dataframe thead th {\n",
       "        text-align: right;\n",
       "    }\n",
       "</style>\n",
       "<table border=\"1\" class=\"dataframe\">\n",
       "  <thead>\n",
       "    <tr style=\"text-align: right;\">\n",
       "      <th></th>\n",
       "      <th>Age</th>\n",
       "      <th>Score</th>\n",
       "      <th>Rank</th>\n",
       "    </tr>\n",
       "  </thead>\n",
       "  <tbody>\n",
       "    <tr>\n",
       "      <th>0</th>\n",
       "      <td>False</td>\n",
       "      <td>False</td>\n",
       "      <td>False</td>\n",
       "    </tr>\n",
       "    <tr>\n",
       "      <th>1</th>\n",
       "      <td>False</td>\n",
       "      <td>True</td>\n",
       "      <td>False</td>\n",
       "    </tr>\n",
       "    <tr>\n",
       "      <th>2</th>\n",
       "      <td>False</td>\n",
       "      <td>False</td>\n",
       "      <td>False</td>\n",
       "    </tr>\n",
       "    <tr>\n",
       "      <th>3</th>\n",
       "      <td>True</td>\n",
       "      <td>False</td>\n",
       "      <td>True</td>\n",
       "    </tr>\n",
       "  </tbody>\n",
       "</table>\n",
       "</div>"
      ],
      "text/plain": [
       "     Age  Score   Rank\n",
       "0  False  False  False\n",
       "1  False   True  False\n",
       "2  False  False  False\n",
       "3   True  False   True"
      ]
     },
     "execution_count": 42,
     "metadata": {},
     "output_type": "execute_result"
    }
   ],
   "source": [
    "import pandas as pd\n",
    "import numpy as np\n",
    "\n",
    "data = {'Age':[23,56,45,np.nan], 'Score':[50,np.nan,85,45], 'Rank':[1,4,9,np.nan]}\n",
    "\n",
    "df = pd.DataFrame(data)\n",
    "df.isnull()\n",
    "\n"
   ]
  },
  {
   "cell_type": "code",
   "execution_count": 43,
   "metadata": {},
   "outputs": [
    {
     "data": {
      "text/html": [
       "<div>\n",
       "<style scoped>\n",
       "    .dataframe tbody tr th:only-of-type {\n",
       "        vertical-align: middle;\n",
       "    }\n",
       "\n",
       "    .dataframe tbody tr th {\n",
       "        vertical-align: top;\n",
       "    }\n",
       "\n",
       "    .dataframe thead th {\n",
       "        text-align: right;\n",
       "    }\n",
       "</style>\n",
       "<table border=\"1\" class=\"dataframe\">\n",
       "  <thead>\n",
       "    <tr style=\"text-align: right;\">\n",
       "      <th></th>\n",
       "      <th>Age</th>\n",
       "      <th>Score</th>\n",
       "      <th>Rank</th>\n",
       "    </tr>\n",
       "  </thead>\n",
       "  <tbody>\n",
       "    <tr>\n",
       "      <th>0</th>\n",
       "      <td>23.0</td>\n",
       "      <td>50.0</td>\n",
       "      <td>1.0</td>\n",
       "    </tr>\n",
       "    <tr>\n",
       "      <th>1</th>\n",
       "      <td>56.0</td>\n",
       "      <td>0.0</td>\n",
       "      <td>4.0</td>\n",
       "    </tr>\n",
       "    <tr>\n",
       "      <th>2</th>\n",
       "      <td>45.0</td>\n",
       "      <td>85.0</td>\n",
       "      <td>9.0</td>\n",
       "    </tr>\n",
       "    <tr>\n",
       "      <th>3</th>\n",
       "      <td>0.0</td>\n",
       "      <td>45.0</td>\n",
       "      <td>0.0</td>\n",
       "    </tr>\n",
       "  </tbody>\n",
       "</table>\n",
       "</div>"
      ],
      "text/plain": [
       "    Age  Score  Rank\n",
       "0  23.0   50.0   1.0\n",
       "1  56.0    0.0   4.0\n",
       "2  45.0   85.0   9.0\n",
       "3   0.0   45.0   0.0"
      ]
     },
     "execution_count": 43,
     "metadata": {},
     "output_type": "execute_result"
    }
   ],
   "source": [
    "df.fillna(0)"
   ]
  },
  {
   "cell_type": "code",
   "execution_count": 44,
   "metadata": {},
   "outputs": [
    {
     "data": {
      "text/html": [
       "<div>\n",
       "<style scoped>\n",
       "    .dataframe tbody tr th:only-of-type {\n",
       "        vertical-align: middle;\n",
       "    }\n",
       "\n",
       "    .dataframe tbody tr th {\n",
       "        vertical-align: top;\n",
       "    }\n",
       "\n",
       "    .dataframe thead th {\n",
       "        text-align: right;\n",
       "    }\n",
       "</style>\n",
       "<table border=\"1\" class=\"dataframe\">\n",
       "  <thead>\n",
       "    <tr style=\"text-align: right;\">\n",
       "      <th></th>\n",
       "      <th>Age</th>\n",
       "      <th>Score</th>\n",
       "      <th>Rank</th>\n",
       "    </tr>\n",
       "  </thead>\n",
       "  <tbody>\n",
       "    <tr>\n",
       "      <th>0</th>\n",
       "      <td>23.0</td>\n",
       "      <td>50.0</td>\n",
       "      <td>1.0</td>\n",
       "    </tr>\n",
       "    <tr>\n",
       "      <th>2</th>\n",
       "      <td>45.0</td>\n",
       "      <td>85.0</td>\n",
       "      <td>9.0</td>\n",
       "    </tr>\n",
       "  </tbody>\n",
       "</table>\n",
       "</div>"
      ],
      "text/plain": [
       "    Age  Score  Rank\n",
       "0  23.0   50.0   1.0\n",
       "2  45.0   85.0   9.0"
      ]
     },
     "execution_count": 44,
     "metadata": {},
     "output_type": "execute_result"
    }
   ],
   "source": [
    "df.dropna()"
   ]
  }
 ],
 "metadata": {
  "kernelspec": {
   "display_name": "Python 3",
   "language": "python",
   "name": "python3"
  },
  "language_info": {
   "codemirror_mode": {
    "name": "ipython",
    "version": 3
   },
   "file_extension": ".py",
   "mimetype": "text/x-python",
   "name": "python",
   "nbconvert_exporter": "python",
   "pygments_lexer": "ipython3",
   "version": "3.8.5"
  }
 },
 "nbformat": 4,
 "nbformat_minor": 4
}
