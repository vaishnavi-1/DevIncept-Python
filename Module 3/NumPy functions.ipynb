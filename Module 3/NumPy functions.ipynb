{
 "cells": [
  {
   "cell_type": "markdown",
   "metadata": {},
   "source": [
    "# NumPy functions"
   ]
  },
  {
   "cell_type": "markdown",
   "metadata": {},
   "source": [
    "### NumPy Array Shape\n"
   ]
  },
  {
   "cell_type": "code",
   "execution_count": 26,
   "metadata": {},
   "outputs": [
    {
     "name": "stdout",
     "output_type": "stream",
     "text": [
      "(2, 3)\n",
      "(4,)\n"
     ]
    }
   ],
   "source": [
    "import numpy as np\n",
    "arr = np.array([[11,33,22], [55, 16, 27]])\n",
    "arr1= np.array([11,20,32,49])\n",
    "\n",
    "print(arr.shape)\n",
    "print(arr1.shape)\n"
   ]
  },
  {
   "cell_type": "markdown",
   "metadata": {},
   "source": [
    "### All in one example"
   ]
  },
  {
   "cell_type": "code",
   "execution_count": 27,
   "metadata": {},
   "outputs": [
    {
     "name": "stdout",
     "output_type": "stream",
     "text": [
      "No of dimensions of the array: 3\n",
      "Total no of elements of the array: 32\n",
      "Shape of the array: (4, 2, 4)\n"
     ]
    }
   ],
   "source": [
    "array_example = np.array([  [[11,13,45,6],\n",
    "                            [41, 15, 6, 7]],\n",
    "\n",
    "                            [[21,5,79,6],\n",
    "                            [34,66,9,1]],\n",
    "\n",
    "                            [[33,61,4,21],\n",
    "                            [1,23, 76, 87]],\n",
    "                          \n",
    "                            [[2,4,8,9],\n",
    "                             [6,99,7,5]] ])\n",
    " \n",
    "print('No of dimensions of the array:',array_example.ndim)     # .ndim for dimensions\n",
    "print('Total no of elements of the array:',array_example.size) # .size for size\n",
    "print('Shape of the array:',array_example.shape)                # .shape for shape"
   ]
  },
  {
   "cell_type": "markdown",
   "metadata": {},
   "source": [
    "## NumPy Array Reshaping"
   ]
  },
  {
   "cell_type": "code",
   "execution_count": 28,
   "metadata": {},
   "outputs": [
    {
     "name": "stdout",
     "output_type": "stream",
     "text": [
      "[[10 23 13 54 95  6]\n",
      " [57 80 92 15 17 12]]\n",
      "[['V' 'a' 'i']\n",
      " ['s' 'h' 'n']\n",
      " ['a' 'v' 'i']]\n"
     ]
    }
   ],
   "source": [
    "#Reshape from 1D to 2D\n",
    "import numpy as np\n",
    "arr1 = np.array([10, 23, 13, 54, 95, 6, 57, 80, 92, 15, 17, 12])\n",
    "newarr1 = arr1.reshape(2,6)\n",
    "arr2 = np.array(['V','a','i','s','h','n','a','v','i'])\n",
    "newarr2 = arr2.reshape(3,3)\n",
    "print(newarr1)\n",
    "print(newarr2)"
   ]
  },
  {
   "cell_type": "code",
   "execution_count": 29,
   "metadata": {},
   "outputs": [
    {
     "name": "stdout",
     "output_type": "stream",
     "text": [
      "[[[10 23]\n",
      "  [13 54]\n",
      "  [95  6]]\n",
      "\n",
      " [[57 80]\n",
      "  [92 15]\n",
      "  [17 12]]]\n"
     ]
    }
   ],
   "source": [
    "#Reshape from 1d to 3d\n",
    "import numpy as np\n",
    "arr = np.array([10, 23, 13, 54, 95, 6, 57, 80, 92, 15, 17, 12])\n",
    "newarr = arr.reshape(2, 3, 2)\n",
    "print(newarr)"
   ]
  },
  {
   "cell_type": "code",
   "execution_count": 30,
   "metadata": {},
   "outputs": [
    {
     "name": "stdout",
     "output_type": "stream",
     "text": [
      "[1 2 3 6 7 8]\n"
     ]
    }
   ],
   "source": [
    "#Multidimensional array into 1 dimensional\n",
    "import numpy as np\n",
    "arr = np.array([[1,2,3],[6,7,8]])\n",
    "arr1 = arr.reshape(-1)\n",
    "print(arr1)"
   ]
  },
  {
   "cell_type": "markdown",
   "metadata": {},
   "source": [
    "## NumPy Searching and Sorting"
   ]
  },
  {
   "cell_type": "code",
   "execution_count": 31,
   "metadata": {},
   "outputs": [
    {
     "name": "stdout",
     "output_type": "stream",
     "text": [
      "[ 1  2  3  9 33 42 65 99]\n",
      "['abhs' 'anjali' 'jojo' 'mani' 'vaishu']\n",
      "[[  3  22  49]\n",
      " [  6  76 333]]\n"
     ]
    }
   ],
   "source": [
    "# NumPy sorting\n",
    "import numpy as np\n",
    "arr1 = np.array([1,9,33,2,99,65,3,42])\n",
    "arr2 = np.array(['vaishu','anjali','jojo','mani','abhs'])\n",
    "arr3 = np.array([[22,3,49],[333,6,76]])\n",
    "\n",
    "print(np.sort(arr1))\n",
    "\n",
    "print(np.sort(arr2))\n",
    "\n",
    "print(np.sort(arr3))\n",
    "\n"
   ]
  },
  {
   "cell_type": "code",
   "execution_count": 32,
   "metadata": {},
   "outputs": [
    {
     "name": "stdout",
     "output_type": "stream",
     "text": [
      "(array([4, 8], dtype=int32),)\n",
      "(array([0, 2, 7], dtype=int32),)\n",
      "(array([4, 8, 9], dtype=int32),)\n",
      "1\n",
      "[1 3]\n"
     ]
    }
   ],
   "source": [
    "# NumPy Searching\n",
    "#where()\n",
    "import numpy as np\n",
    "arr1 = np.array([55,44,20,3,6,87,9,50,6,71])\n",
    "x = np.where(arr1 == 6)\n",
    "y = np.where(arr1%5 == 0)\n",
    "z = np.where(arr1%5 == 1)\n",
    "print(x)\n",
    "print(y)\n",
    "print(z)\n",
    "\n",
    "    \n",
    "#searchsorted() :\n",
    "\n",
    "arr1 = np.array([68, 72, 84, 96])\n",
    "x = np.searchsorted(arr1, 72)\n",
    "print(x)\n",
    "   \n",
    "# Multiple values\n",
    "arr2 = np.array([18, 44,63,90])\n",
    "y = np.searchsorted(arr2, [44,90])\n",
    "print(y)"
   ]
  },
  {
   "cell_type": "markdown",
   "metadata": {},
   "source": [
    "## Mean, Median, Mode"
   ]
  },
  {
   "cell_type": "code",
   "execution_count": 33,
   "metadata": {},
   "outputs": [
    {
     "name": "stdout",
     "output_type": "stream",
     "text": [
      "Mean of array [ 3  4  4 32 26 77 90] is 33.714285714285715\n"
     ]
    }
   ],
   "source": [
    "# Mean\n",
    "import numpy as np\n",
    "a = np.array([3,4,4,32,26,77,90])\n",
    "b =  np.mean(a)\n",
    "print(\"Mean of array {} is {}\".format(a,b))"
   ]
  },
  {
   "cell_type": "code",
   "execution_count": 34,
   "metadata": {},
   "outputs": [
    {
     "name": "stdout",
     "output_type": "stream",
     "text": [
      "Median of [ 1  3  9 47 85  3 45 89 66 22 17] is 22.0\n"
     ]
    }
   ],
   "source": [
    "# Median\n",
    "# For one value in the middle\n",
    "import numpy as np\n",
    "a = np.array([1,3,9,47,85,3,45,89,66,22,17])\n",
    "print(\"Median of {} is {}\".format(a, np.median(a)))"
   ]
  },
  {
   "cell_type": "code",
   "execution_count": 35,
   "metadata": {},
   "outputs": [
    {
     "name": "stdout",
     "output_type": "stream",
     "text": [
      "Median of [ 1  3  9 47 85  3 89 66 22 17] is 19.5\n"
     ]
    }
   ],
   "source": [
    "# Median\n",
    "#For two values in the middle\n",
    "import numpy as np\n",
    "a = np.array([1,3,9,47,85,3,89,66,22,17])\n",
    "print(\"Median of {} is {}\".format(a, np.median(a)))"
   ]
  },
  {
   "cell_type": "code",
   "execution_count": 36,
   "metadata": {},
   "outputs": [
    {
     "name": "stdout",
     "output_type": "stream",
     "text": [
      "Mode of [34, 87, 55, 6, 12, 9, 55, 9, 6, 40, 3, 66, 55, 120] is ModeResult(mode=array([55]), count=array([3]))\n"
     ]
    }
   ],
   "source": [
    "#Mode\n",
    "from scipy import stats\n",
    "a = [34,87,55,6,12,9,55,9,6,40,3,66,55,120]\n",
    "print(\"Mode of {} is {}\".format(a, stats.mode(a)))\n"
   ]
  },
  {
   "cell_type": "markdown",
   "metadata": {},
   "source": [
    "## Standard Deviation"
   ]
  },
  {
   "cell_type": "code",
   "execution_count": 37,
   "metadata": {},
   "outputs": [
    {
     "name": "stdout",
     "output_type": "stream",
     "text": [
      "23.949019928914744\n",
      "3230.1236213765874\n"
     ]
    }
   ],
   "source": [
    "import numpy\n",
    "speed = [45,89,55,63,22,90]\n",
    "x = numpy.std(speed)\n",
    "print(x)\n",
    "   \n",
    "speed1 = [199,34,55,333,85,9933,3,551]\n",
    "y = numpy.std(speed1)\n",
    "print(y)"
   ]
  }
 ],
 "metadata": {
  "kernelspec": {
   "display_name": "Python 3",
   "language": "python",
   "name": "python3"
  },
  "language_info": {
   "codemirror_mode": {
    "name": "ipython",
    "version": 3
   },
   "file_extension": ".py",
   "mimetype": "text/x-python",
   "name": "python",
   "nbconvert_exporter": "python",
   "pygments_lexer": "ipython3",
   "version": "3.8.5"
  }
 },
 "nbformat": 4,
 "nbformat_minor": 4
}
