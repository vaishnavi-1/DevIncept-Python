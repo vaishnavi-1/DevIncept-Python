{
 "cells": [
  {
   "cell_type": "markdown",
   "metadata": {},
   "source": [
    "# NumPy Basics"
   ]
  },
  {
   "cell_type": "markdown",
   "metadata": {},
   "source": [
    "### Creating a Basic Array"
   ]
  },
  {
   "cell_type": "code",
   "execution_count": 40,
   "metadata": {},
   "outputs": [
    {
     "name": "stdout",
     "output_type": "stream",
     "text": [
      "[11  2 33 44 55]\n",
      "['a' 'e' 'i' 'o' 'u']\n",
      "['a' '100' 'z' '44']\n"
     ]
    }
   ],
   "source": [
    "import numpy as np\n",
    "arr1 = np.array([11,2,33,44,55])        #List is used to make array\n",
    "arr2 = np.array(['a','e','i','o','u'])\n",
    "arr3 = np.array(('a',100,'z',44))      #Tuple is used to make array\n",
    "print(arr1)\n",
    "print(arr2)\n",
    "print(arr3)"
   ]
  },
  {
   "cell_type": "code",
   "execution_count": 41,
   "metadata": {},
   "outputs": [
    {
     "name": "stdout",
     "output_type": "stream",
     "text": [
      "<class 'numpy.ndarray'>\n",
      "<class 'numpy.ndarray'>\n"
     ]
    }
   ],
   "source": [
    "print(type(arr3))                     #type of array c\n",
    "print(type(arr2))                     #type of array b"
   ]
  },
  {
   "cell_type": "markdown",
   "metadata": {},
   "source": [
    "Arrays using **np.zeros(), np.ones() and np.arange()**."
   ]
  },
  {
   "cell_type": "code",
   "execution_count": 42,
   "metadata": {},
   "outputs": [
    {
     "name": "stdout",
     "output_type": "stream",
     "text": [
      "[0. 0. 0. 0. 0. 0. 0.]\n",
      "[1. 1. 1. 1. 1.]\n",
      "[4 5 6 7 8]\n",
      "[14 16 18 20 22]\n",
      "[ 0  1  2  3  4  5  6  7  8  9 10 11 12 13 14]\n"
     ]
    }
   ],
   "source": [
    "arr4 = np.zeros(7)\n",
    "arr5 = np.ones(5)\n",
    "arr6 = np.arange(4,9)                #specify start point and end point\n",
    "arr7 = np.arange(14,24,2)            #specify start point, end point and step size\n",
    "arr8 = np.arange(15)\n",
    "print(arr4)\n",
    "print(arr5)\n",
    "print(arr6)\n",
    "print(arr7)\n",
    "print(arr8)"
   ]
  },
  {
   "cell_type": "markdown",
   "metadata": {},
   "source": [
    "## N-dimensional Array"
   ]
  },
  {
   "cell_type": "code",
   "execution_count": 43,
   "metadata": {},
   "outputs": [
    {
     "name": "stdout",
     "output_type": "stream",
     "text": [
      "[[12 13 44]\n",
      " [42 52 61]]\n",
      "[[11  2 13]\n",
      " [40  5 16]\n",
      " [17 18  9]]\n",
      "[['a' 'e' 'i']\n",
      " ['o' 'u' 'w']]\n",
      "[[0. 0. 0. 0.]\n",
      " [0. 0. 0. 0.]\n",
      " [0. 0. 0. 0.]\n",
      " [0. 0. 0. 0.]]\n",
      "[[1 1 1]\n",
      " [1 1 1]\n",
      " [1 1 1]]\n"
     ]
    }
   ],
   "source": [
    "# 2d dimensional array\n",
    "import numpy as np\n",
    "arr1=np.array([[12,13,44],[42,52,61]])\n",
    "arr2=np.array([[11,2,13],[40,5,16],[17,18,9]])\n",
    "arr3=np.array([['a','e','i'],['o','u','w']])\n",
    "   \n",
    "#creates a 3X3 array with all zeros\n",
    "zeros=np.zeros((4,4))\n",
    "   \n",
    "#creates a 2X2 array with all ones\n",
    "ones=np.ones((3,3),dtype='int64')  #specify the type with (dtype) parameter \n",
    "   \n",
    "print(arr1)\n",
    "print(arr2)\n",
    "print(arr3)\n",
    "print(zeros)\n",
    "print(ones)"
   ]
  },
  {
   "cell_type": "code",
   "execution_count": 44,
   "metadata": {},
   "outputs": [
    {
     "name": "stdout",
     "output_type": "stream",
     "text": [
      "0\n",
      "1\n",
      "2\n"
     ]
    }
   ],
   "source": [
    "# ndim\n",
    "a = np.array(3)\n",
    "b = np.array([4,55,6,1,0,2,33])\n",
    "c = np.array([[4,6,8], [3,12,9], [5,66,11]])\n",
    "\n",
    "print(a.ndim)\n",
    "print(b.ndim)\n",
    "print(c.ndim)"
   ]
  },
  {
   "cell_type": "markdown",
   "metadata": {},
   "source": [
    "### Basic operations with Arrays"
   ]
  },
  {
   "cell_type": "code",
   "execution_count": 45,
   "metadata": {},
   "outputs": [
    {
     "name": "stdout",
     "output_type": "stream",
     "text": [
      "[35 63 21 26 30]\n",
      "[ 25  17  19  14 -10]\n",
      "[ 6.          1.73913043 20.          3.33333333  0.5       ]\n",
      "Adding 2 to all elements: [37 65 23 28 32]\n",
      "Subtracting 2 from all elements: [ 23  15  17  12 -12]\n"
     ]
    }
   ],
   "source": [
    "import numpy as np\n",
    "arr1 = np.array([30,40,20,20,10])\n",
    "arr2 = np.array([5,23,1,6,20])\n",
    "c = arr1 + arr2\n",
    "d = arr1 - arr2\n",
    "e = arr1 / arr2\n",
    "\n",
    "print(c)                     #addition\n",
    "print(d)                     #subtraction\n",
    "print(e)                     #division\n",
    "\n",
    "print(\"Adding 2 to all elements:\", c+2)\n",
    "print(\"Subtracting 2 from all elements:\", d-2)"
   ]
  },
  {
   "cell_type": "markdown",
   "metadata": {},
   "source": [
    "## Array Indexing and Slicing"
   ]
  },
  {
   "cell_type": "markdown",
   "metadata": {},
   "source": [
    "### Array Indexing"
   ]
  },
  {
   "cell_type": "code",
   "execution_count": 46,
   "metadata": {},
   "outputs": [
    {
     "name": "stdout",
     "output_type": "stream",
     "text": [
      "12\n",
      "44\n",
      "14\n",
      "V\n",
      "3\n",
      "3\n"
     ]
    }
   ],
   "source": [
    "import numpy as np\n",
    "arr1 = np.array([12,2,33,44])\n",
    "arr2 = np.array([23,1,14,30])\n",
    "arr3 = np.array(['V','a','i','s','h','n','a','v','i'])\n",
    "arr4 = np.array([[51,2,33], [12,3,77]])\n",
    "\n",
    "print(arr1[0]) # prints first element\n",
    "print(arr1[-1]) # prints last element\n",
    "print(arr2[2]) # prints third element\n",
    "print(arr3[0]) # prints first element\n",
    "print(arr4[1][1]) #prints 3\n",
    "print(arr4[1,1]) # Or you can use this type"
   ]
  },
  {
   "cell_type": "markdown",
   "metadata": {},
   "source": [
    "### Array Slicing"
   ]
  },
  {
   "cell_type": "code",
   "execution_count": 47,
   "metadata": {},
   "outputs": [
    {
     "name": "stdout",
     "output_type": "stream",
     "text": [
      "['V' 'a']\n",
      "['V' 'a' 'i']\n",
      "['n' 'a' 'v' 'i']\n",
      "['V' 'i' 'h' 'a' 'i']\n",
      "[66 77 88]\n",
      "[11 33 55 77 99]\n",
      "[43 45 66]\n",
      "[21 45]\n",
      "[[11 21 22]\n",
      " [43 45 66]]\n"
     ]
    }
   ],
   "source": [
    "\n",
    "import numpy as np\n",
    "arr1=np.array(['V','a','i','s','h','n','a','v','i'])\n",
    "arr2=np.array([11,22,33,44,55,66,77,88,99])\n",
    "   \n",
    "# 2-D Slicing\n",
    "arr3=np.array([[10,11,21,22,23], [34,43,45,66,99]])\n",
    "   \n",
    "print(arr1[:2]) # default is taken as 0\n",
    "print(arr1[0:3])\n",
    "print(arr1[5:]) # taken till the end\n",
    "print(arr1[::2])\n",
    "   \n",
    "print(arr2[-4:-1])\n",
    "print(arr2[::2]) # step size as 2\n",
    "   \n",
    "# 2-D Slicing\n",
    "print(arr3[1,1:4])\n",
    "print(arr3[0:2, 2])\n",
    "print(arr3[0:2, 1:4])"
   ]
  },
  {
   "cell_type": "markdown",
   "metadata": {},
   "source": [
    "### All in one example"
   ]
  },
  {
   "cell_type": "code",
   "execution_count": 48,
   "metadata": {},
   "outputs": [
    {
     "name": "stdout",
     "output_type": "stream",
     "text": [
      "22\n",
      "[11 22]\n",
      "[22 30]\n",
      "[22 30]\n"
     ]
    }
   ],
   "source": [
    "import numpy as np\n",
    "data = np.array([11, 22, 30])\n",
    "print(data[1])\n",
    "print(data[0:2])\n",
    "print(data[1:])\n",
    "print(data[-2:])"
   ]
  }
 ],
 "metadata": {
  "kernelspec": {
   "display_name": "Python 3",
   "language": "python",
   "name": "python3"
  },
  "language_info": {
   "codemirror_mode": {
    "name": "ipython",
    "version": 3
   },
   "file_extension": ".py",
   "mimetype": "text/x-python",
   "name": "python",
   "nbconvert_exporter": "python",
   "pygments_lexer": "ipython3",
   "version": "3.8.5"
  }
 },
 "nbformat": 4,
 "nbformat_minor": 4
}
